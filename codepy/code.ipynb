{
  "nbformat": 4,
  "nbformat_minor": 0,
  "metadata": {
    "colab": {
      "provenance": []
    },
    "kernelspec": {
      "name": "python3",
      "display_name": "Python 3"
    },
    "language_info": {
      "name": "python"
    }
  },
  "cells": [
    {
      "cell_type": "code",
      "source": [
        "import numpy as np\n",
        "import matplotlib.pyplot as plt\n",
        "import pandas as pd"
      ],
      "metadata": {
        "id": "-tO1W-Z1C61a"
      },
      "execution_count": null,
      "outputs": []
    },
    {
      "cell_type": "markdown",
      "source": [
        "Carga del conjunto de datos:\n",
        "Se carga un conjunto de datos desde un archivo CSV llamado \"heart.csv\".\n",
        "Extracción de características y variable objetivo:\n",
        "Se separan las características (X) y la variable objetivo (y) del conjunto de datos cargado.\n",
        "Impresión de información:\n",
        "Se imprime el nombre de las columnas del conjunto de datos.\n",
        "Se imprime la matriz de características (X).\n",
        "Se imprime el vector de la variable objetivo (y)."
      ],
      "metadata": {
        "id": "3QOGhXveDyCb"
      }
    },
    {
      "cell_type": "code",
      "source": [
        "dataset = pd.read_csv(\"/content/heart.csv\")\n",
        "print(dataset.columns)\n",
        "X = dataset.iloc[:,:-1].values\n",
        "y = dataset.iloc[:,-1].values\n",
        "print(X)\n",
        "print(y)"
      ],
      "metadata": {
        "colab": {
          "base_uri": "https://localhost:8080/"
        },
        "id": "HbvZK-WmC9PI",
        "outputId": "dc6d4901-c3d3-42ea-bef7-0c51336c0a35"
      },
      "execution_count": null,
      "outputs": [
        {
          "output_type": "stream",
          "name": "stdout",
          "text": [
            "Index(['age', 'sex', 'cp', 'trestbps', 'chol', 'fbs', 'restecg', 'thalach',\n",
            "       'exang', 'oldpeak', 'slope', 'ca', 'thal', 'target'],\n",
            "      dtype='object')\n",
            "[[52.  1.  0. ...  2.  2.  3.]\n",
            " [53.  1.  0. ...  0.  0.  3.]\n",
            " [70.  1.  0. ...  0.  0.  3.]\n",
            " ...\n",
            " [47.  1.  0. ...  1.  1.  2.]\n",
            " [50.  0.  0. ...  2.  0.  2.]\n",
            " [54.  1.  0. ...  1.  1.  3.]]\n",
            "[0 0 0 ... 0 1 0]\n"
          ]
        }
      ]
    },
    {
      "cell_type": "markdown",
      "source": [
        "División del conjunto de datos:\n",
        "Se divide el conjunto de características (X) y la variable objetivo (y) en conjuntos de entrenamiento y prueba.\n",
        "X_train, X_test, y_train, y_test = train_test_split(X, y, test_size=0.25, random_state=0): Esta línea divide las características (X) y la variable objetivo (y) en conjuntos de entrenamiento y prueba.\n",
        "X_train: Conjunto de características de entrenamiento.\n",
        "X_test: Conjunto de características de prueba.\n",
        "y_train: Variable objetivo de entrenamiento.\n",
        "y_test: Variable objetivo de prueba.\n",
        "test_size: Proporción del conjunto de datos que se utilizará como conjunto de prueba (en este caso, 25%).\n",
        "random_state: Semilla para garantizar reproducibilidad en la división de datos."
      ],
      "metadata": {
        "id": "08g5zG8SD4c5"
      }
    },
    {
      "cell_type": "code",
      "source": [
        "from sklearn.model_selection import train_test_split\n",
        "X_train, X_test, y_train, y_test = train_test_split(X, y, test_size = 0.25, random_state = 0)"
      ],
      "metadata": {
        "id": "tKrWwFiGC_Wr"
      },
      "execution_count": null,
      "outputs": []
    },
    {
      "cell_type": "markdown",
      "source": [
        "Estandarización de características:\n",
        "sc = StandardScaler(): Se crea un objeto StandardScaler, que se utilizará para estandarizar las características.\n",
        "X_train = sc.fit_transform(X_train): Se ajusta el escalador a los datos de entrenamiento (X_train) y luego se transforman los datos de entrenamiento para que tengan una media de 0 y una desviación estándar de 1.\n",
        "X_test = sc.transform(X_test): Se utiliza el mismo escalador para transformar los datos de prueba (X_test). Es importante notar que solo se llama a transform en los datos de prueba, ya que se utiliza la media y la desviación estándar aprendidas del conjunto de entrenamiento."
      ],
      "metadata": {
        "id": "uyXOEFigD94Q"
      }
    },
    {
      "cell_type": "code",
      "source": [
        "from sklearn.preprocessing import StandardScaler\n",
        "sc = StandardScaler()\n",
        "X_train = sc.fit_transform(X_train)\n",
        "X_test = sc.transform(X_test)"
      ],
      "metadata": {
        "id": "F3IsVb1JDCEh"
      },
      "execution_count": null,
      "outputs": []
    },
    {
      "cell_type": "markdown",
      "source": [
        "Entrenamiento del clasificador SVM:\n",
        "from sklearn.svm import SVC: Importa la clase SVC de scikit-learn, que implementa un clasificador de máquina de vectores de soporte.\n",
        "classifier = SVC(kernel='linear', random_state=0): Se crea un clasificador SVM con un kernel lineal y se establece una semilla aleatoria para reproducibilidad.\n",
        "classifier.fit(X_train, y_train): Se entrena el clasificador utilizando los conjuntos de características y variables objetivo de entrenamiento (X_train y y_train, respectivamente)."
      ],
      "metadata": {
        "id": "xBzmavbcECWM"
      }
    },
    {
      "cell_type": "code",
      "source": [
        "from sklearn.svm import SVC\n",
        "classifier=SVC(kernel='linear', random_state=0 )\n",
        "classifier.fit(X_train, y_train)"
      ],
      "metadata": {
        "colab": {
          "base_uri": "https://localhost:8080/",
          "height": 74
        },
        "id": "TEFrN3znDD7u",
        "outputId": "c90da841-abc3-47be-de9e-37aa1a8a5421"
      },
      "execution_count": null,
      "outputs": [
        {
          "output_type": "execute_result",
          "data": {
            "text/plain": [
              "SVC(kernel='linear', random_state=0)"
            ],
            "text/html": [
              "<style>#sk-container-id-1 {color: black;background-color: white;}#sk-container-id-1 pre{padding: 0;}#sk-container-id-1 div.sk-toggleable {background-color: white;}#sk-container-id-1 label.sk-toggleable__label {cursor: pointer;display: block;width: 100%;margin-bottom: 0;padding: 0.3em;box-sizing: border-box;text-align: center;}#sk-container-id-1 label.sk-toggleable__label-arrow:before {content: \"▸\";float: left;margin-right: 0.25em;color: #696969;}#sk-container-id-1 label.sk-toggleable__label-arrow:hover:before {color: black;}#sk-container-id-1 div.sk-estimator:hover label.sk-toggleable__label-arrow:before {color: black;}#sk-container-id-1 div.sk-toggleable__content {max-height: 0;max-width: 0;overflow: hidden;text-align: left;background-color: #f0f8ff;}#sk-container-id-1 div.sk-toggleable__content pre {margin: 0.2em;color: black;border-radius: 0.25em;background-color: #f0f8ff;}#sk-container-id-1 input.sk-toggleable__control:checked~div.sk-toggleable__content {max-height: 200px;max-width: 100%;overflow: auto;}#sk-container-id-1 input.sk-toggleable__control:checked~label.sk-toggleable__label-arrow:before {content: \"▾\";}#sk-container-id-1 div.sk-estimator input.sk-toggleable__control:checked~label.sk-toggleable__label {background-color: #d4ebff;}#sk-container-id-1 div.sk-label input.sk-toggleable__control:checked~label.sk-toggleable__label {background-color: #d4ebff;}#sk-container-id-1 input.sk-hidden--visually {border: 0;clip: rect(1px 1px 1px 1px);clip: rect(1px, 1px, 1px, 1px);height: 1px;margin: -1px;overflow: hidden;padding: 0;position: absolute;width: 1px;}#sk-container-id-1 div.sk-estimator {font-family: monospace;background-color: #f0f8ff;border: 1px dotted black;border-radius: 0.25em;box-sizing: border-box;margin-bottom: 0.5em;}#sk-container-id-1 div.sk-estimator:hover {background-color: #d4ebff;}#sk-container-id-1 div.sk-parallel-item::after {content: \"\";width: 100%;border-bottom: 1px solid gray;flex-grow: 1;}#sk-container-id-1 div.sk-label:hover label.sk-toggleable__label {background-color: #d4ebff;}#sk-container-id-1 div.sk-serial::before {content: \"\";position: absolute;border-left: 1px solid gray;box-sizing: border-box;top: 0;bottom: 0;left: 50%;z-index: 0;}#sk-container-id-1 div.sk-serial {display: flex;flex-direction: column;align-items: center;background-color: white;padding-right: 0.2em;padding-left: 0.2em;position: relative;}#sk-container-id-1 div.sk-item {position: relative;z-index: 1;}#sk-container-id-1 div.sk-parallel {display: flex;align-items: stretch;justify-content: center;background-color: white;position: relative;}#sk-container-id-1 div.sk-item::before, #sk-container-id-1 div.sk-parallel-item::before {content: \"\";position: absolute;border-left: 1px solid gray;box-sizing: border-box;top: 0;bottom: 0;left: 50%;z-index: -1;}#sk-container-id-1 div.sk-parallel-item {display: flex;flex-direction: column;z-index: 1;position: relative;background-color: white;}#sk-container-id-1 div.sk-parallel-item:first-child::after {align-self: flex-end;width: 50%;}#sk-container-id-1 div.sk-parallel-item:last-child::after {align-self: flex-start;width: 50%;}#sk-container-id-1 div.sk-parallel-item:only-child::after {width: 0;}#sk-container-id-1 div.sk-dashed-wrapped {border: 1px dashed gray;margin: 0 0.4em 0.5em 0.4em;box-sizing: border-box;padding-bottom: 0.4em;background-color: white;}#sk-container-id-1 div.sk-label label {font-family: monospace;font-weight: bold;display: inline-block;line-height: 1.2em;}#sk-container-id-1 div.sk-label-container {text-align: center;}#sk-container-id-1 div.sk-container {/* jupyter's `normalize.less` sets `[hidden] { display: none; }` but bootstrap.min.css set `[hidden] { display: none !important; }` so we also need the `!important` here to be able to override the default hidden behavior on the sphinx rendered scikit-learn.org. See: https://github.com/scikit-learn/scikit-learn/issues/21755 */display: inline-block !important;position: relative;}#sk-container-id-1 div.sk-text-repr-fallback {display: none;}</style><div id=\"sk-container-id-1\" class=\"sk-top-container\"><div class=\"sk-text-repr-fallback\"><pre>SVC(kernel=&#x27;linear&#x27;, random_state=0)</pre><b>In a Jupyter environment, please rerun this cell to show the HTML representation or trust the notebook. <br />On GitHub, the HTML representation is unable to render, please try loading this page with nbviewer.org.</b></div><div class=\"sk-container\" hidden><div class=\"sk-item\"><div class=\"sk-estimator sk-toggleable\"><input class=\"sk-toggleable__control sk-hidden--visually\" id=\"sk-estimator-id-1\" type=\"checkbox\" checked><label for=\"sk-estimator-id-1\" class=\"sk-toggleable__label sk-toggleable__label-arrow\">SVC</label><div class=\"sk-toggleable__content\"><pre>SVC(kernel=&#x27;linear&#x27;, random_state=0)</pre></div></div></div></div></div>"
            ]
          },
          "metadata": {},
          "execution_count": 18
        }
      ]
    },
    {
      "cell_type": "markdown",
      "source": [
        "Predicción con el conjunto de prueba:\n",
        "y_pred = classifier.predict(X_test): Se utilizan las características del conjunto de prueba (X_test) para realizar predicciones utilizando el clasificador SVM entrenado.\n",
        "classifier.predict(): Método que predice las etiquetas de clase para los datos de entrada proporcionados.\n",
        "y_pred: Vector que contiene las etiquetas predichas para las muestras del conjunto de datos de prueba."
      ],
      "metadata": {
        "id": "Czb3jU8VEHNI"
      }
    },
    {
      "cell_type": "code",
      "source": [
        "y_pred = classifier.predict(X_test)\n",
        "print(y_pred)"
      ],
      "metadata": {
        "colab": {
          "base_uri": "https://localhost:8080/"
        },
        "id": "SumFj7C8DGOY",
        "outputId": "0bb8f160-143a-4fe3-9d97-582cf50009ba"
      },
      "execution_count": null,
      "outputs": [
        {
          "output_type": "stream",
          "name": "stdout",
          "text": [
            "[1 1 0 1 0 0 0 0 0 1 1 0 1 1 1 1 1 0 1 0 1 1 1 1 1 1 1 1 1 1 1 0 0 1 0 0 0\n",
            " 0 1 1 1 1 1 1 1 1 1 1 0 1 0 0 0 1 0 0 0 1 0 1 0 1 1 1 0 0 0 1 1 1 1 1 1 0\n",
            " 0 0 1 0 0 0 0 0 1 1 1 0 1 0 1 0 0 0 1 1 1 0 1 0 1 1 1 1 1 0 0 1 0 1 0 1 1\n",
            " 1 0 0 0 0 1 0 0 1 1 1 1 0 1 1 1 1 1 0 0 0 1 1 1 0 0 1 0 1 0 0 1 0 0 1 1 0\n",
            " 1 0 1 1 1 0 0 0 1 1 0 0 0 1 1 0 1 0 1 1 1 1 1 1 1 1 1 1 0 1 1 0 0 0 0 0 1\n",
            " 0 1 0 0 0 0 1 1 1 0 1 1 1 1 0 1 1 1 0 1 1 1 1 1 0 1 1 1 1 0 0 1 0 0 1 0 1\n",
            " 1 0 1 0 0 1 1 0 0 0 1 0 1 0 1 1 0 0 0 0 0 0 1 1 0 1 0 1 1 0 1 1 1 0 1]\n"
          ]
        }
      ]
    },
    {
      "cell_type": "code",
      "source": [
        "from sklearn.metrics import confusion_matrix\n",
        "cm = confusion_matrix(y_test, y_pred)\n",
        "print(cm)"
      ],
      "metadata": {
        "colab": {
          "base_uri": "https://localhost:8080/"
        },
        "id": "FkJfVsUqDH1A",
        "outputId": "953b2440-87ca-4319-de75-c2010f027368"
      },
      "execution_count": null,
      "outputs": [
        {
          "output_type": "stream",
          "name": "stdout",
          "text": [
            "[[ 99  24]\n",
            " [ 12 122]]\n"
          ]
        }
      ]
    },
    {
      "cell_type": "markdown",
      "source": [
        "Obtención de las clases únicas:\n",
        "classes = dataset['target'].unique(): Esto parece estar extrayendo las clases únicas de la columna 'target' del DataFrame dataset.\n",
        "Importación de bibliotecas:\n",
        "from sklearn.metrics import ConfusionMatrixDisplay: Importa la clase ConfusionMatrixDisplay desde scikit-learn para visualizar la matriz de confusión.\n",
        "import matplotlib.pyplot as plt: Importa la biblioteca matplotlib para generar visualizaciones.\n",
        "Visualización de la matriz de confusión:\n",
        "Se necesita una matriz de confusión (cm) para visualizarla. Esta matriz debe ser calculada previamente utilizando las predicciones (y_pred) y las etiquetas verdaderas (y_test)."
      ],
      "metadata": {
        "id": "bhTIr_peEOwk"
      }
    },
    {
      "cell_type": "code",
      "source": [
        "classes= dataset['target'].unique()\n",
        "from sklearn.metrics import ConfusionMatrixDisplay\n",
        "disp = ConfusionMatrixDisplay(confusion_matrix=cm, display_labels=classes)\n",
        "disp.plot()\n",
        "plt.show()"
      ],
      "metadata": {
        "colab": {
          "base_uri": "https://localhost:8080/",
          "height": 449
        },
        "id": "DW8gT_GODLRS",
        "outputId": "5cff69d0-a025-4045-e605-4fc3e213dc47"
      },
      "execution_count": null,
      "outputs": [
        {
          "output_type": "display_data",
          "data": {
            "text/plain": [
              "<Figure size 640x480 with 2 Axes>"
            ],
            "image/png": "[encoded data removed]"
          },
          "metadata": {}
        }
      ]
    },
    {
      "cell_type": "markdown",
      "source": [
        "classification_report: Esta función genera un informe de clasificación que incluye métricas como precisión, recall, puntuación F1 y soporte para cada clase. Proporciona una descripción detallada del rendimiento del clasificador en términos de estas métricas.\n",
        "accuracy_score: Esta función calcula la precisión del clasificador al comparar las etiquetas predichas con las etiquetas verdaderas. Devuelve la fracción de muestras correctamente clasificadas."
      ],
      "metadata": {
        "id": "F9f0Wcq0ETWh"
      }
    },
    {
      "cell_type": "code",
      "source": [
        "from sklearn.metrics import classification_report,accuracy_score"
      ],
      "metadata": {
        "id": "-7lJCHSUDL2Q"
      },
      "execution_count": null,
      "outputs": []
    },
    {
      "cell_type": "markdown",
      "source": [
        "la función accuracy_score calcula la precisión del modelo de clasificación al comparar las etiquetas verdaderas con las etiquetas predichas, devolviendo la fracción de predicciones correctas. En este caso, el código print(accuracy_score(y_test, y_pred)) imprime la precisión del modelo en la consola."
      ],
      "metadata": {
        "id": "93pI3HhzEgnb"
      }
    },
    {
      "cell_type": "code",
      "source": [
        "print(accuracy_score(y_test,y_pred))"
      ],
      "metadata": {
        "colab": {
          "base_uri": "https://localhost:8080/"
        },
        "id": "ewx0VrHWDO65",
        "outputId": "3d0c6b75-25de-411f-cf13-ca97832fcf1b"
      },
      "execution_count": null,
      "outputs": [
        {
          "output_type": "stream",
          "name": "stdout",
          "text": [
            "0.8599221789883269\n"
          ]
        }
      ]
    },
    {
      "cell_type": "markdown",
      "source": [
        "print(classification_report(y_test, y_pred)) genera un informe de clasificación detallado que incluye métricas como precisión, recall, puntuación F1 y soporte para cada clase. Este informe proporciona una descripción completa del rendimiento del modelo de clasificación en términos de estas métricas para cada clase en el conjunto de datos de prueba."
      ],
      "metadata": {
        "id": "2-2jl_UbElFZ"
      }
    },
    {
      "cell_type": "code",
      "source": [
        "print(classification_report(y_test, y_pred))"
      ],
      "metadata": {
        "colab": {
          "base_uri": "https://localhost:8080/"
        },
        "id": "9x7-8qMTDRGe",
        "outputId": "9a389e33-164d-41d4-bd54-6ed062aa0330"
      },
      "execution_count": null,
      "outputs": [
        {
          "output_type": "stream",
          "name": "stdout",
          "text": [
            "              precision    recall  f1-score   support\n",
            "\n",
            "           0       0.89      0.80      0.85       123\n",
            "           1       0.84      0.91      0.87       134\n",
            "\n",
            "    accuracy                           0.86       257\n",
            "   macro avg       0.86      0.86      0.86       257\n",
            "weighted avg       0.86      0.86      0.86       257\n",
            "\n"
          ]
        }
      ]
    },
    {
      "cell_type": "code",
      "source": [
        "from sklearn.metrics import accuracy_score\n",
        "import pickle\n",
        "\n",
        "# Supongamos que ya tienes tus datos de prueba y las predicciones realizadas por el modelo\n",
        "# y_test: etiquetas verdaderas, y_pred: etiquetas predichas\n",
        "\n",
        "# Calcula la precisión del modelo\n",
        "accuracy = accuracy_score(y_test, y_pred)\n",
        "print(\"Precisión del modelo:\", accuracy)\n",
        "\n",
        "# Guarda la precisión en un archivo .pkl\n",
        "with open('accuracy_model.pkl', 'wb') as file:\n",
        "    pickle.dump(accuracy, file)\n"
      ],
      "metadata": {
        "colab": {
          "base_uri": "https://localhost:8080/"
        },
        "id": "FPZC1rnxEvgB",
        "outputId": "1de04c36-5ece-41e6-ed37-e96fbadbfd4a"
      },
      "execution_count": null,
      "outputs": [
        {
          "output_type": "stream",
          "name": "stdout",
          "text": [
            "Precisión del modelo: 0.8599221789883269\n"
          ]
        }
      ]
    }
  ]
}